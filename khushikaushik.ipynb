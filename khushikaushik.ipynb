{
  "cells": [
    {
      "cell_type": "markdown",
      "metadata": {
        "id": "N9vsh0qrllkp"
      },
      "source": [
        "# CPSC 375 Classwork - Introduction to Python\n",
        "\n",
        "[![Open In Colab](https://colab.research.google.com/assets/colab-badge.svg)](https://colab.research.google.com/github/ProfAvery/cpsc375-classwork/blob/main/python.ipynb)\n",
        "\n",
        "- *Manager*:\n",
        "- *Recorder*:\n",
        "- *Presenter*:\n",
        "- *Timekeeper*:"
      ]
    },
    {
      "cell_type": "markdown",
      "metadata": {
        "id": "OKoY_RF2llkq"
      },
      "source": [
        "## Part 1 - Slides 21-23"
      ]
    },
    {
      "cell_type": "markdown",
      "metadata": {
        "id": "7_Gs4C4Nllkq"
      },
      "source": [
        "Calculate the mean of values: 1, 2, 5"
      ]
    },
    {
      "cell_type": "code",
      "execution_count": null,
      "metadata": {
        "id": "DYjXP0Rullkq"
      },
      "outputs": [],
      "source": []
    },
    {
      "cell_type": "markdown",
      "metadata": {
        "id": "5u9WaNxTllkq"
      },
      "source": [
        "Calculate the magnitude of vector (1, 2, 5)\n",
        "\n",
        "Magnitude = $\\sqrt{1^2 + 2^2 + 5^2}$"
      ]
    },
    {
      "cell_type": "code",
      "execution_count": null,
      "metadata": {
        "id": "BL6PGxfOllkr"
      },
      "outputs": [],
      "source": []
    },
    {
      "cell_type": "markdown",
      "metadata": {
        "id": "ZRAncPN7llkr"
      },
      "source": [
        "Normalize the vector\n",
        "\n",
        "*Divide each component by the magnitude (and save to a new variable)*"
      ]
    },
    {
      "cell_type": "code",
      "execution_count": null,
      "metadata": {
        "id": "HjyeXPaNllkr"
      },
      "outputs": [],
      "source": []
    },
    {
      "cell_type": "markdown",
      "metadata": {
        "id": "JopgkpQWllkr"
      },
      "source": [
        "Calculate the magnitude of the normalized vector"
      ]
    },
    {
      "cell_type": "code",
      "execution_count": null,
      "metadata": {
        "id": "j6EM8Tb3llkr"
      },
      "outputs": [],
      "source": []
    },
    {
      "cell_type": "markdown",
      "metadata": {
        "id": "7eGEVLPqllkr"
      },
      "source": [
        "\n",
        "Calculate the mean of 1st 100 numbers: 1, 2, …, 100"
      ]
    },
    {
      "cell_type": "code",
      "execution_count": null,
      "metadata": {
        "id": "E7JsB3fZllkr"
      },
      "outputs": [],
      "source": []
    },
    {
      "cell_type": "markdown",
      "metadata": {
        "id": "iHrfUQGOllkr"
      },
      "source": [
        "## Part 2 - Slide 33"
      ]
    },
    {
      "cell_type": "code",
      "execution_count": null,
      "metadata": {
        "id": "qA8djoAPllkr"
      },
      "outputs": [],
      "source": [
        "import statsmodels.api as sm\n",
        "\n",
        "iris = sm.datasets.get_rdataset(\"iris\").data\n",
        "iris.Species = iris.Species.astype(\"category\")"
      ]
    },
    {
      "cell_type": "markdown",
      "metadata": {
        "id": "peRnbGj6llks"
      },
      "source": [
        "Show all rows where Species is \"setosa\""
      ]
    },
    {
      "cell_type": "code",
      "execution_count": null,
      "metadata": {
        "id": "lLracV8fllks"
      },
      "outputs": [],
      "source": []
    },
    {
      "cell_type": "markdown",
      "metadata": {
        "id": "v0COBk84llks"
      },
      "source": [
        "Show all rows where Sepal.Length > 3.0 and Species is \"setosa\""
      ]
    },
    {
      "cell_type": "code",
      "execution_count": null,
      "metadata": {
        "id": "EAX1hY1qllks"
      },
      "outputs": [],
      "source": []
    },
    {
      "cell_type": "markdown",
      "metadata": {
        "id": "ULX9yJUjllks"
      },
      "source": [
        "What is the largest value of Sepal.Length?"
      ]
    },
    {
      "cell_type": "code",
      "execution_count": null,
      "metadata": {
        "id": "gXIG3V4-llks"
      },
      "outputs": [],
      "source": []
    },
    {
      "cell_type": "markdown",
      "metadata": {
        "id": "HDkX9UhKllks"
      },
      "source": [
        "Which row contains this value?"
      ]
    },
    {
      "cell_type": "code",
      "execution_count": null,
      "metadata": {
        "id": "rVUrPqEDllks"
      },
      "outputs": [],
      "source": []
    },
    {
      "cell_type": "markdown",
      "metadata": {
        "id": "mSyrKic2llks"
      },
      "source": [
        "What Species corresponds to this largest Sepal.Length?"
      ]
    },
    {
      "cell_type": "code",
      "execution_count": null,
      "metadata": {
        "id": "afG5Ed6Ollks"
      },
      "outputs": [],
      "source": []
    },
    {
      "cell_type": "markdown",
      "metadata": {
        "id": "9yLrh_i0llks"
      },
      "source": [
        "## Part 3 - Slide 37"
      ]
    },
    {
      "cell_type": "code",
      "execution_count": null,
      "metadata": {
        "id": "UlZKZDksllks"
      },
      "outputs": [],
      "source": [
        "airquality = sm.datasets.get_rdataset(\"airquality\").data"
      ]
    },
    {
      "cell_type": "markdown",
      "metadata": {
        "id": "PRIdlLHPllks"
      },
      "source": [
        "Consider the data airquality\n",
        "\n",
        "- How many rows, columns, what are the variable names?"
      ]
    },
    {
      "cell_type": "code",
      "execution_count": null,
      "metadata": {
        "id": "egfbYAMVllks"
      },
      "outputs": [],
      "source": []
    },
    {
      "cell_type": "markdown",
      "metadata": {
        "id": "gLSvcER5llks"
      },
      "source": [
        "Are there any NAs in column Ozone?\n",
        "- How many NAs in column Ozone?\n",
        "- Which rows have NAs in column Ozone?"
      ]
    },
    {
      "cell_type": "code",
      "execution_count": null,
      "metadata": {
        "id": "R89sUzv0llks"
      },
      "outputs": [],
      "source": []
    },
    {
      "cell_type": "markdown",
      "metadata": {
        "id": "vUxKXWVPllks"
      },
      "source": [
        "What is the mean of the Ozone variable?"
      ]
    },
    {
      "cell_type": "code",
      "execution_count": null,
      "metadata": {
        "id": "5LPO3x0Vllks"
      },
      "outputs": [],
      "source": []
    }
  ],
  "metadata": {
    "kernelspec": {
      "display_name": "cpsc375-python",
      "language": "python",
      "name": "python3"
    },
    "language_info": {
      "codemirror_mode": {
        "name": "ipython",
        "version": 3
      },
      "file_extension": ".py",
      "mimetype": "text/x-python",
      "name": "python",
      "nbconvert_exporter": "python",
      "pygments_lexer": "ipython3",
      "version": "3.12.4"
    },
    "colab": {
      "provenance": []
    }
  },
  "nbformat": 4,
  "nbformat_minor": 0
}